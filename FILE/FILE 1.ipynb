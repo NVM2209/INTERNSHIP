{
 "cells": [
  {
   "cell_type": "code",
   "execution_count": 2,
   "id": "dae44bfd",
   "metadata": {},
   "outputs": [
    {
     "name": "stdout",
     "output_type": "stream",
     "text": [
      "15\n"
     ]
    }
   ],
   "source": [
    "def func(a, b):\n",
    "    return b if a == 0 else func(b % a, a)\n",
    "print(func(30, 75))    #c"
   ]
  },
  {
   "cell_type": "code",
   "execution_count": 3,
   "id": "2fb228f5",
   "metadata": {},
   "outputs": [
    {
     "name": "stdout",
     "output_type": "stream",
     "text": [
      "<class 'filter'>\n"
     ]
    }
   ],
   "source": [
    "numbers = (4, 7, 19, 2, 89, 45, 72, 22)\n",
    "sorted_numbers = sorted(numbers)\n",
    "even = lambda a: a % 2 == 0\n",
    "even_numbers = filter(even, sorted_numbers)\n",
    "print(type(even_numbers))  #b"
   ]
  },
  {
   "cell_type": "markdown",
   "id": "f808f0cb",
   "metadata": {},
   "source": [
    "A) TUPLE"
   ]
  },
  {
   "cell_type": "code",
   "execution_count": 5,
   "id": "c54608e0",
   "metadata": {},
   "outputs": [],
   "source": [
    "set1 = {14, 3, 55}\n",
    "set2 = {82, 49, 62}\n",
    "set3 ={99,22,17}\n"
   ]
  },
  {
   "cell_type": "code",
   "execution_count": 6,
   "id": "d8772fc7",
   "metadata": {},
   "outputs": [
    {
     "ename": "TypeError",
     "evalue": "unsupported operand type(s) for +: 'set' and 'set'",
     "output_type": "error",
     "traceback": [
      "\u001b[1;31m---------------------------------------------------------------------------\u001b[0m",
      "\u001b[1;31mTypeError\u001b[0m                                 Traceback (most recent call last)",
      "Input \u001b[1;32mIn [6]\u001b[0m, in \u001b[0;36m<cell line: 1>\u001b[1;34m()\u001b[0m\n\u001b[1;32m----> 1\u001b[0m \u001b[38;5;28mprint\u001b[39m(\u001b[38;5;28mlen\u001b[39m(\u001b[43mset1\u001b[49m\u001b[43m \u001b[49m\u001b[38;5;241;43m+\u001b[39;49m\u001b[43m \u001b[49m\u001b[43mset2\u001b[49m \u001b[38;5;241m+\u001b[39m set3))\n",
      "\u001b[1;31mTypeError\u001b[0m: unsupported operand type(s) for +: 'set' and 'set'"
     ]
    }
   ],
   "source": [
    "print(len(set1 + set2 + set3))  # error"
   ]
  },
  {
   "cell_type": "markdown",
   "id": "49108463",
   "metadata": {},
   "source": [
    "5-- RAISE\n",
    "\n",
    "The raise keyword is used to raise an exception.\n",
    "\n",
    "You can define what kind of error to raise, and the text to print to the user."
   ]
  },
  {
   "cell_type": "markdown",
   "id": "3d3ed43c",
   "metadata": {},
   "source": [
    "6--DATETIME\n",
    "\n",
    "The Python datetime module has two built-in methods, strptime() and strftime() , which help Python programmers convert or parse the time string to an object and the Python string time to DateTime object, respectively"
   ]
  },
  {
   "cell_type": "code",
   "execution_count": 7,
   "id": "576c89a8",
   "metadata": {},
   "outputs": [
    {
     "name": "stdout",
     "output_type": "stream",
     "text": [
      "208\n"
     ]
    }
   ],
   "source": [
    "print(4**3 + (7 + 5)**(1 + 1))   # c"
   ]
  },
  {
   "cell_type": "markdown",
   "id": "28232337",
   "metadata": {},
   "source": [
    "8-- A)strptime\n",
    "\n",
    "strptime() function in Python converts a date to its corresponding time in Python.\n"
   ]
  },
  {
   "cell_type": "markdown",
   "id": "951cb463",
   "metadata": {},
   "source": [
    "9) B)Immutable "
   ]
  },
  {
   "cell_type": "markdown",
   "id": "8ebce193",
   "metadata": {},
   "source": [
    "10)   A) range()"
   ]
  },
  {
   "cell_type": "markdown",
   "id": "5aa85f72",
   "metadata": {},
   "source": [
    "11)  C)Lambda function"
   ]
  },
  {
   "cell_type": "markdown",
   "id": "0ce00b1a",
   "metadata": {},
   "source": [
    "12   C) Both A and B\n",
    "\n",
    "\n",
    "Pickle is a Python module that allows you to save any object structure along with its associated data. Pickle is a Python module that can be used to serialize and de-serialize any type of Python object structure. Serialization is the process of converting data or an object stored in memory to a stream of bytes known as byte streams, which is a type of data stream. These byte streams, which are contained within a binary file, can then be stored on a disc, in a database, or transmitted over a network. Pickling is another term for the serialization process. De-serialization, also known as unpickling, is the inverse of the pickling process, in which a byte stream is converted back to a Python object through the pickling process."
   ]
  },
  {
   "cell_type": "markdown",
   "id": "67f5aca2",
   "metadata": {},
   "source": [
    "13) B) dump() method\n",
    "\n",
    "\n",
    "The dump() method is used to convert Python objects into binary data that can be written to a binary file. The file into which the data is to be written must be opened in binary write mode before the data can be written. To make use of the dump() method, we can call this function with the parameters data object and file object. There are two objects in this case: data object and file object. The data object object is the object that needs to be dumped to the file with the file handle named file_ object."
   ]
  },
  {
   "cell_type": "markdown",
   "id": "ea06854f",
   "metadata": {},
   "source": [
    "14) A) load method\n",
    "\n",
    "\n",
    "The load() method is used to unpickle data from a binary file that has been compressed. The binary read (rb) mode is used to load the file that is to be loaded. If we want to use the load() method, we can write Store object = load(file object) in our program. The pickled Python object is loaded from a file with a file handle named file object and stored in a new file handle named store object. The pickled Python object is loaded from a file with a file handle named file object and stored in a new file handle named store object."
   ]
  },
  {
   "cell_type": "markdown",
   "id": "28c90e26",
   "metadata": {},
   "source": [
    "15) D) All of the mentioned above"
   ]
  },
  {
   "cell_type": "code",
   "execution_count": null,
   "id": "a63c00cc",
   "metadata": {},
   "outputs": [],
   "source": [
    "16) D) both a and b"
   ]
  },
  {
   "cell_type": "code",
   "execution_count": 8,
   "id": "dab716bb",
   "metadata": {},
   "outputs": [],
   "source": [
    "captains = {\"Enterprise\": \"Picard\",\"Voyager\": \"Janeway\",\"Defiant\": \"Sisko\"}"
   ]
  },
  {
   "cell_type": "code",
   "execution_count": 9,
   "id": "6673b0db",
   "metadata": {},
   "outputs": [
    {
     "name": "stdout",
     "output_type": "stream",
     "text": [
      "Enterprise Picard\n",
      "Voyager Janeway\n",
      "Defiant Sisko\n"
     ]
    }
   ],
   "source": [
    "for ship, captain in captains.items():\n",
    "    print(ship, captain)"
   ]
  },
  {
   "cell_type": "code",
   "execution_count": 10,
   "id": "9e71c6d4",
   "metadata": {},
   "outputs": [
    {
     "name": "stdout",
     "output_type": "stream",
     "text": [
      "Enterprise Picard\n",
      "Voyager Janeway\n",
      "Defiant Sisko\n"
     ]
    }
   ],
   "source": [
    "for ship in captains:\n",
    "    print(ship, captains[ship])"
   ]
  },
  {
   "cell_type": "code",
   "execution_count": 11,
   "id": "4e1c8c02",
   "metadata": {},
   "outputs": [
    {
     "name": "stdout",
     "output_type": "stream",
     "text": [
      "Enterprise {'Enterprise': 'Picard', 'Voyager': 'Janeway', 'Defiant': 'Sisko'}\n",
      "Voyager {'Enterprise': 'Picard', 'Voyager': 'Janeway', 'Defiant': 'Sisko'}\n",
      "Defiant {'Enterprise': 'Picard', 'Voyager': 'Janeway', 'Defiant': 'Sisko'}\n"
     ]
    }
   ],
   "source": [
    "for ship in captains:\n",
    "    print(ship, captains)"
   ]
  },
  {
   "cell_type": "code",
   "execution_count": null,
   "id": "f41cd17c",
   "metadata": {},
   "outputs": [],
   "source": [
    "17)  d) captains = {}"
   ]
  },
  {
   "cell_type": "code",
   "execution_count": null,
   "id": "f9fada83",
   "metadata": {},
   "outputs": [],
   "source": [
    "18)  B"
   ]
  },
  {
   "cell_type": "code",
   "execution_count": 12,
   "id": "c165c723",
   "metadata": {},
   "outputs": [],
   "source": [
    "captains = {}"
   ]
  },
  {
   "cell_type": "code",
   "execution_count": 14,
   "id": "0a111d30",
   "metadata": {},
   "outputs": [],
   "source": [
    "captains[\"Enterprise\"] = \"Picard\"\n",
    "captains[\"Voyager\"] = \"Janeway\"\n",
    "captains[\"Defiant\"] = \"Sisko\""
   ]
  },
  {
   "cell_type": "code",
   "execution_count": 15,
   "id": "109b4115",
   "metadata": {},
   "outputs": [
    {
     "data": {
      "text/plain": [
       "{'Enterprise': 'Picard', 'Voyager': 'Janeway', 'Defiant': 'Sisko'}"
      ]
     },
     "execution_count": 15,
     "metadata": {},
     "output_type": "execute_result"
    }
   ],
   "source": [
    "captains"
   ]
  },
  {
   "cell_type": "code",
   "execution_count": null,
   "id": "b7ec9986",
   "metadata": {},
   "outputs": [],
   "source": [
    "19) B"
   ]
  },
  {
   "cell_type": "code",
   "execution_count": 16,
   "id": "b46c8596",
   "metadata": {},
   "outputs": [],
   "source": [
    "captains = {\"Enterprise\": \"Picard\",\"Voyager\": \"Janeway\",\"Defiant\": \"Sisko\",\"Discovery\": \"unknown\"}\n"
   ]
  },
  {
   "cell_type": "code",
   "execution_count": 17,
   "id": "5399ba30",
   "metadata": {},
   "outputs": [
    {
     "name": "stdout",
     "output_type": "stream",
     "text": [
      "The [ship] is captained by [captain].\n",
      "The [ship] is captained by [captain].\n",
      "The [ship] is captained by [captain].\n",
      "The [ship] is captained by [captain].\n"
     ]
    }
   ],
   "source": [
    "for item in captains.items():\n",
    "    print(f\"The [ship] is captained by [captain].\")"
   ]
  },
  {
   "cell_type": "code",
   "execution_count": 18,
   "id": "7bf522f3",
   "metadata": {},
   "outputs": [
    {
     "name": "stdout",
     "output_type": "stream",
     "text": [
      "The Enterprise is captained by Picard.\n",
      "The Voyager is captained by Janeway.\n",
      "The Defiant is captained by Sisko.\n",
      "The Discovery is captained by unknown.\n"
     ]
    }
   ],
   "source": [
    "for ship, captain in captains.items():\n",
    "    print(f\"The {ship} is captained by {captain}.\")"
   ]
  },
  {
   "cell_type": "code",
   "execution_count": 19,
   "id": "8c82e277",
   "metadata": {},
   "outputs": [
    {
     "name": "stdout",
     "output_type": "stream",
     "text": [
      "The Picard is captained by Enterprise.\n",
      "The Janeway is captained by Voyager.\n",
      "The Sisko is captained by Defiant.\n",
      "The unknown is captained by Discovery.\n"
     ]
    }
   ],
   "source": [
    "for captain, ship in captains.items():\n",
    "    print(f\"The {ship} is captained by {captain}.\")"
   ]
  },
  {
   "cell_type": "code",
   "execution_count": null,
   "id": "35363d2f",
   "metadata": {},
   "outputs": [],
   "source": [
    "20) C) del captains[\"Discovery\"]"
   ]
  }
 ],
 "metadata": {
  "kernelspec": {
   "display_name": "Python 3 (ipykernel)",
   "language": "python",
   "name": "python3"
  },
  "language_info": {
   "codemirror_mode": {
    "name": "ipython",
    "version": 3
   },
   "file_extension": ".py",
   "mimetype": "text/x-python",
   "name": "python",
   "nbconvert_exporter": "python",
   "pygments_lexer": "ipython3",
   "version": "3.9.12"
  }
 },
 "nbformat": 4,
 "nbformat_minor": 5
}
